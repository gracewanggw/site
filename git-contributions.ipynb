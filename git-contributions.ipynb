{
 "cells": [
  {
   "cell_type": "code",
   "execution_count": 1,
   "id": "88cf8bd6",
   "metadata": {},
   "outputs": [],
   "source": [
    "import pandas as pd\n",
    "import requests\n",
    "from bs4 import BeautifulSoup"
   ]
  },
  {
   "cell_type": "code",
   "execution_count": 2,
   "id": "18a27164",
   "metadata": {},
   "outputs": [],
   "source": [
    "contributions = requests.get('https://github.com/users/gracewanggw/contributions')"
   ]
  },
  {
   "cell_type": "code",
   "execution_count": 3,
   "id": "c48aa559",
   "metadata": {},
   "outputs": [],
   "source": [
    "soup = BeautifulSoup(contributions.text, \"html.parser\")"
   ]
  },
  {
   "cell_type": "code",
   "execution_count": 4,
   "id": "3095d37b",
   "metadata": {},
   "outputs": [],
   "source": [
    "items = [item.get_text() for item in soup.find_all('tool-tip')]"
   ]
  },
  {
   "cell_type": "code",
   "execution_count": 5,
   "id": "0af787e9",
   "metadata": {},
   "outputs": [],
   "source": [
    "import re"
   ]
  },
  {
   "cell_type": "code",
   "execution_count": 6,
   "id": "ae7a34bc",
   "metadata": {},
   "outputs": [],
   "source": [
    "def extract(input_string):\n",
    "    pattern = r\"(\\w+ \\d{1,2})[a-z]*\\.\"\n",
    "    match = re.search(pattern, input_string)\n",
    "\n",
    "    if match:\n",
    "        # Extract the matched date string\n",
    "        date_string = match.group(1)\n",
    "\n",
    "        # Extract the number of contributions (if present)\n",
    "        contributions_match = re.search(r\"(\\d+) contributions?\", input_string)\n",
    "        contributions = int(contributions_match.group(1)) if contributions_match else 0\n",
    "\n",
    "        return date_string, contributions\n",
    "    else:\n",
    "        return None, None\n"
   ]
  },
  {
   "cell_type": "code",
   "execution_count": 7,
   "id": "6173c2f7",
   "metadata": {},
   "outputs": [],
   "source": [
    "from datetime import datetime, timedelta"
   ]
  },
  {
   "cell_type": "code",
   "execution_count": 8,
   "id": "f0e3adbc",
   "metadata": {},
   "outputs": [],
   "source": [
    "def get_date(day):\n",
    "    current_date = datetime.now()\n",
    "    current_year = current_date.year\n",
    "    \n",
    "    date_object = datetime.strptime(day, \"%B %d\")\n",
    "\n",
    "    # If the date is before the current date, use the current year; otherwise, use the previous year\n",
    "    updated_year = current_year if date_object.replace(year=current_year) <= current_date else current_year - 1\n",
    "\n",
    "    # Set the year in the datetime object\n",
    "    date_object = date_object.replace(year=updated_year)\n",
    "\n",
    "    return date_object.strftime(\"%B %d, %Y\")\n"
   ]
  },
  {
   "cell_type": "code",
   "execution_count": 9,
   "id": "4e86e6b0",
   "metadata": {},
   "outputs": [
    {
     "data": {
      "text/plain": [
       "'December 18, 2023'"
      ]
     },
     "execution_count": 9,
     "metadata": {},
     "output_type": "execute_result"
    }
   ],
   "source": [
    "get_date('December 18')"
   ]
  },
  {
   "cell_type": "code",
   "execution_count": 10,
   "id": "4ef9e0d1",
   "metadata": {},
   "outputs": [],
   "source": [
    "from collections import defaultdict"
   ]
  },
  {
   "cell_type": "code",
   "execution_count": 11,
   "id": "f68626a8",
   "metadata": {},
   "outputs": [],
   "source": [
    "contrib_dict = defaultdict(int)\n",
    "for item in items:\n",
    "    day, contribs = extract(item)\n",
    "    \n",
    "    date_object = datetime.strptime(get_date(day), \"%B %d, %Y\")\n",
    "\n",
    "    # Extract the month key (e.g., 'December')\n",
    "    month_key = date_object.strftime(\"%b %Y\")\n",
    "\n",
    "    # Update the contributions for the corresponding month\n",
    "    contrib_dict[month_key] += contribs"
   ]
  },
  {
   "cell_type": "code",
   "execution_count": 12,
   "id": "34d378da",
   "metadata": {},
   "outputs": [
    {
     "data": {
      "text/plain": [
       "defaultdict(int,\n",
       "            {'Dec 2023': 131,\n",
       "             'Dec 2022': 0,\n",
       "             'Jan 2023': 3,\n",
       "             'Feb 2023': 4,\n",
       "             'Mar 2023': 0,\n",
       "             'Apr 2023': 31,\n",
       "             'May 2023': 13,\n",
       "             'Jun 2023': 0,\n",
       "             'Jul 2023': 0,\n",
       "             'Aug 2023': 0,\n",
       "             'Sep 2023': 14,\n",
       "             'Oct 2023': 17,\n",
       "             'Nov 2023': 14})"
      ]
     },
     "execution_count": 12,
     "metadata": {},
     "output_type": "execute_result"
    }
   ],
   "source": [
    "contrib_dict"
   ]
  },
  {
   "cell_type": "code",
   "execution_count": 13,
   "id": "13c82cc6",
   "metadata": {},
   "outputs": [],
   "source": [
    "data = []\n",
    "for key in contrib_dict.keys():\n",
    "    data.append({'month': key, 'GitHub Contributions': contrib_dict[key]})"
   ]
  },
  {
   "cell_type": "code",
   "execution_count": 14,
   "id": "8a893bb0",
   "metadata": {},
   "outputs": [
    {
     "data": {
      "text/plain": [
       "[{'month': 'Dec 2023', 'GitHub Contributions': 131},\n",
       " {'month': 'Dec 2022', 'GitHub Contributions': 0},\n",
       " {'month': 'Jan 2023', 'GitHub Contributions': 3},\n",
       " {'month': 'Feb 2023', 'GitHub Contributions': 4},\n",
       " {'month': 'Mar 2023', 'GitHub Contributions': 0},\n",
       " {'month': 'Apr 2023', 'GitHub Contributions': 31},\n",
       " {'month': 'May 2023', 'GitHub Contributions': 13},\n",
       " {'month': 'Jun 2023', 'GitHub Contributions': 0},\n",
       " {'month': 'Jul 2023', 'GitHub Contributions': 0},\n",
       " {'month': 'Aug 2023', 'GitHub Contributions': 0},\n",
       " {'month': 'Sep 2023', 'GitHub Contributions': 14},\n",
       " {'month': 'Oct 2023', 'GitHub Contributions': 17},\n",
       " {'month': 'Nov 2023', 'GitHub Contributions': 14}]"
      ]
     },
     "execution_count": 14,
     "metadata": {},
     "output_type": "execute_result"
    }
   ],
   "source": [
    "data"
   ]
  },
  {
   "cell_type": "code",
   "execution_count": 16,
   "id": "d71482ed",
   "metadata": {},
   "outputs": [],
   "source": [
    "# Define a function to extract the date from the 'month' string\n",
    "def extract_date(item):\n",
    "    return datetime.strptime(item['month'], \"%b %Y\")\n",
    "\n",
    "# Sort the list of dictionaries based on the date\n",
    "data = sorted(data, key=extract_date)"
   ]
  },
  {
   "cell_type": "code",
   "execution_count": 17,
   "id": "01bf104f",
   "metadata": {},
   "outputs": [],
   "source": [
    "data = data[1:]"
   ]
  },
  {
   "cell_type": "code",
   "execution_count": 18,
   "id": "7653d803",
   "metadata": {},
   "outputs": [
    {
     "data": {
      "text/plain": [
       "[{'month': 'Jan 2023', 'GitHub Contributions': 3},\n",
       " {'month': 'Feb 2023', 'GitHub Contributions': 4},\n",
       " {'month': 'Mar 2023', 'GitHub Contributions': 0},\n",
       " {'month': 'Apr 2023', 'GitHub Contributions': 31},\n",
       " {'month': 'May 2023', 'GitHub Contributions': 13},\n",
       " {'month': 'Jun 2023', 'GitHub Contributions': 0},\n",
       " {'month': 'Jul 2023', 'GitHub Contributions': 0},\n",
       " {'month': 'Aug 2023', 'GitHub Contributions': 0},\n",
       " {'month': 'Sep 2023', 'GitHub Contributions': 14},\n",
       " {'month': 'Oct 2023', 'GitHub Contributions': 17},\n",
       " {'month': 'Nov 2023', 'GitHub Contributions': 14},\n",
       " {'month': 'Dec 2023', 'GitHub Contributions': 131}]"
      ]
     },
     "execution_count": 18,
     "metadata": {},
     "output_type": "execute_result"
    }
   ],
   "source": [
    "data"
   ]
  },
  {
   "cell_type": "code",
   "execution_count": null,
   "id": "5f3cfcac",
   "metadata": {},
   "outputs": [],
   "source": []
  }
 ],
 "metadata": {
  "kernelspec": {
   "display_name": "Python 3",
   "language": "python",
   "name": "python3"
  },
  "language_info": {
   "codemirror_mode": {
    "name": "ipython",
    "version": 3
   },
   "file_extension": ".py",
   "mimetype": "text/x-python",
   "name": "python",
   "nbconvert_exporter": "python",
   "pygments_lexer": "ipython3",
   "version": "3.7.6"
  }
 },
 "nbformat": 4,
 "nbformat_minor": 5
}
